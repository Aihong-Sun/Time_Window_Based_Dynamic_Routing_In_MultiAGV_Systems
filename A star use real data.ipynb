{
 "cells": [
  {
   "cell_type": "code",
   "execution_count": 37,
   "id": "9f4665c8",
   "metadata": {},
   "outputs": [],
   "source": [
    "#数据读取\n",
    "import xml.dom.minidom\n",
    "from functools import reduce\n",
    "import operator\n",
    "import math\n",
    "import numpy as np\n",
    "import pandas as pd\n",
    "dom = xml.dom.minidom.parse('/Users/zgqq/Documents/研究生/科研/无人叉车/项目资料/VnSimulator.v0.6.18.16/config/HG12/Path.config')"
   ]
  },
  {
   "cell_type": "code",
   "execution_count": 76,
   "id": "9fb0d14d",
   "metadata": {},
   "outputs": [],
   "source": [
    "root = dom.documentElement\n",
    "itemlist = root.getElementsByTagName('Path')\n",
    "item = itemlist[0]\n",
    "un=item.getAttribute(\"No\")\n",
    "Path = {}\n",
    "for item in itemlist:\n",
    "    un=int(item.getAttribute(\"No\"))\n",
    "    ut=item.getAttribute(\"Detail\")\n",
    "    a = [x.split(',') for x in ut.split(';')]\n",
    "    b = reduce(operator.add, a)\n",
    "    Path[un]=b"
   ]
  },
  {
   "cell_type": "code",
   "execution_count": 87,
   "id": "55904704",
   "metadata": {},
   "outputs": [
    {
     "data": {
      "text/plain": [
       "'F'"
      ]
     },
     "execution_count": 87,
     "metadata": {},
     "output_type": "execute_result"
    }
   ],
   "source": [
    "Path[61][0]"
   ]
  },
  {
   "cell_type": "code",
   "execution_count": 79,
   "id": "4ed52c48",
   "metadata": {},
   "outputs": [],
   "source": [
    "class arc:\n",
    "    \"\"\"\n",
    "    用来记录arc\n",
    "    \"\"\"\n",
    "    def __init__(self,index,start=[],end=[]):\n",
    "        self.index = index\n",
    "        self.start = start\n",
    "        self.end = end\n",
    "    def __repr__(self):\n",
    "        return \"[\"+ str(self.index) +\"]\""
   ]
  },
  {
   "cell_type": "code",
   "execution_count": 81,
   "id": "b26dae61",
   "metadata": {},
   "outputs": [],
   "source": [
    "def contain_arc(arcs,courrent_arc):\n",
    "    for arc in arcs:\n",
    "        if arc.start == courrent_arc.start and arc.end == courrent_arc.end:\n",
    "            return False\n",
    "        if arc.start == courrent_arc.end and arc.end == courrent_arc.start:\n",
    "            return False\n",
    "        \n",
    "    return True"
   ]
  },
  {
   "cell_type": "code",
   "execution_count": 82,
   "id": "5c362f40",
   "metadata": {},
   "outputs": [],
   "source": [
    "arc_sum = []\n",
    "for key in Path:\n",
    "    k = arc(key,[Path[key][1],Path[key][2]],[Path[key][4],Path[key][5]])\n",
    "    if(contain_arc(arc_sum,k)):\n",
    "        arc_sum.append(k)"
   ]
  },
  {
   "cell_type": "code",
   "execution_count": null,
   "id": "9ffc6a45",
   "metadata": {
    "scrolled": true
   },
   "outputs": [],
   "source": []
  },
  {
   "cell_type": "code",
   "execution_count": 83,
   "id": "4e547970",
   "metadata": {},
   "outputs": [],
   "source": [
    " = []\n",
    "for item in arc_sum:\n",
    "    index_list.append(item.index)\n",
    "MA=pd.DataFrame(columns=index_list,index=index_list).fillna(0)"
   ]
  },
  {
   "cell_type": "code",
   "execution_count": 84,
   "id": "14c04df8",
   "metadata": {},
   "outputs": [],
   "source": [
    "darc = np.zeros([len(arc_sum)+1,len(arc_sum)+1])\n",
    "for i in range(len(arc_sum)):\n",
    "    for j in range(i,len(arc_sum)):\n",
    "        if arc_sum[i].end == arc_sum[j].start or arc_sum[i].start == arc_sum[j].end:\n",
    "            MA[arc_sum[i].index][arc_sum[j].index] = 1\n",
    "            MA[arc_sum[j].index][arc_sum[i].index] = 1"
   ]
  },
  {
   "cell_type": "code",
   "execution_count": null,
   "id": "47fc3dca",
   "metadata": {},
   "outputs": [],
   "source": []
  },
  {
   "cell_type": "code",
   "execution_count": 114,
   "id": "272627d7",
   "metadata": {},
   "outputs": [],
   "source": [
    "class Grid:\n",
    "    def __init__(self, index):\n",
    "        self.index = index\n",
    "        self.x = (float(Path[index][1]) + float(Path[index][4]))/2\n",
    "        self.y = (float(Path[index][2]) + float(Path[index][5]))/2\n",
    "        self.length = abs(float(Path[index][4]) - float(Path[index][1])) + abs(float(Path[index][5]) - float(Path[index][2]))\n",
    "        self.time = self.length / car_speed\n",
    "        self.f = 0\n",
    "        self.g = 0\n",
    "        self.h = 0\n",
    "        self.parent = None\n",
    "\n",
    "    def init_grid(self, parent, end):\n",
    "        self.parent = parent\n",
    "        if parent is not None:\n",
    "            self.g = parent.g + 1\n",
    "        else:\n",
    "            self.g = 1\n",
    "        self.h = abs(self.x - end.x) + abs(self.y - end.y)\n",
    "        self.f = self.g + self.h\n",
    "    def __repr__(self):\n",
    "        return \"[\"+ str(self.index) +\"]\""
   ]
  },
  {
   "cell_type": "code",
   "execution_count": 62,
   "id": "81f494b3",
   "metadata": {},
   "outputs": [],
   "source": [
    "def contain_grid(grids, index):\n",
    "    for grid in grids:\n",
    "        if (grid.index == index):\n",
    "            return True\n",
    "    return False"
   ]
  },
  {
   "cell_type": "code",
   "execution_count": 63,
   "id": "048a9d7f",
   "metadata": {},
   "outputs": [],
   "source": [
    "def is_valid_grid(index, open_list=[], close_list=[]):\n",
    "    \"\"\"\n",
    "    判断是否越界和障碍物方法\n",
    "    :param x:\n",
    "    :param y:\n",
    "    :param open_list:\n",
    "    :param close_list:\n",
    "    :return:\n",
    "    \"\"\"\n",
    "    # 是否已经在open_list中\n",
    "    if contain_grid(open_list, index):\n",
    "        return False\n",
    "    # 是否已经在close_list中\n",
    "    if contain_grid(close_list, index):\n",
    "        return False\n",
    "    return True"
   ]
  },
  {
   "cell_type": "code",
   "execution_count": 94,
   "id": "506a555b",
   "metadata": {},
   "outputs": [],
   "source": [
    "def find_neighbors(grid, open_list=[], close_list=[]):\n",
    "    \"\"\"\n",
    "    寻找当前格子领近格子的方法\n",
    "    :param grid:\n",
    "    :param open_list:\n",
    "    :param close_list:\n",
    "    :return:\n",
    "    \"\"\"\n",
    "    grid_list = []\n",
    "    temp_list = []\n",
    "    for index in index_list:\n",
    "        if MA[grid.index][index] == 1:\n",
    "            temp_list.append(index)\n",
    "        if MA[index][grid.index] == 1:\n",
    "            temp_list.append(index)  \n",
    "            \n",
    "    for index in temp_list:\n",
    "        if flag[grid.index][index] == 0:\n",
    "            if is_valid_grid(index, open_list, close_list):\n",
    "                grid_list.append(Grid(index))\n",
    "    return grid_list"
   ]
  },
  {
   "cell_type": "code",
   "execution_count": 65,
   "id": "13d6cb9c",
   "metadata": {},
   "outputs": [],
   "source": [
    "def find_min_gird(open_list=[]):\n",
    "    \"\"\"\n",
    "    寻找F值最小的格子的方法\n",
    "    :param open_list:\n",
    "    :return:\n",
    "    \"\"\"\n",
    "    temp_grid = open_list[0]\n",
    "    for grid in open_list:\n",
    "        if grid.f < temp_grid.f:\n",
    "            temp_grid = grid\n",
    "    return temp_grid"
   ]
  },
  {
   "cell_type": "code",
   "execution_count": 66,
   "id": "dbc3c0f8",
   "metadata": {},
   "outputs": [],
   "source": [
    "def a_star_search(start, end):\n",
    "    \"\"\"\n",
    "    寻路方法，找到终点返回终点grid,否则返回None\n",
    "    :param start:\n",
    "    :param end:\n",
    "    :return:\n",
    "    \"\"\"\n",
    "\n",
    "    # 待访问的格子\n",
    "    open_list = []\n",
    "    # 已访问的格子\n",
    "    close_list = []\n",
    "    # 把起点加入open_list中\n",
    "    open_list.append(start)\n",
    "    # 主循环，每一轮检查一个当前方格节点\n",
    "    while len(open_list) > 0:\n",
    "        # 在open_list中查找F值最小的节点作为当前方格节点\n",
    "        current_grid = find_min_gird(open_list)\n",
    "        # 将F值最小的节点从open_list中删除\n",
    "        open_list.remove(current_grid)\n",
    "        # 将F值最小的节点加入到close_list中\n",
    "        close_list.append(current_grid)\n",
    "        # 找到当前节点的所有领近节点\n",
    "        neighbors = find_neighbors(current_grid, open_list, close_list)\n",
    "        for grid in neighbors:\n",
    "            if grid not in open_list:\n",
    "                # 如果当前节点不在open_list中，标记为父节点，并放入open_list中\n",
    "                grid.init_grid(current_grid, end)\n",
    "                open_list.append(grid)\n",
    "            # 如果终点在open_list中，直接返回终点格子\n",
    "            for grid in open_list:\n",
    "                if grid.index == end.index:\n",
    "                    return grid\n",
    "        # 遍历完open_list,仍然找不到终点，说明还没到终点，返回空\n",
    "    return None"
   ]
  },
  {
   "cell_type": "code",
   "execution_count": 96,
   "id": "59b36bab",
   "metadata": {},
   "outputs": [],
   "source": [
    "flag=pd.DataFrame(columns=index_list,index=index_list).fillna(0)"
   ]
  },
  {
   "cell_type": "code",
   "execution_count": 133,
   "id": "eab2b45a",
   "metadata": {},
   "outputs": [
    {
     "name": "stdout",
     "output_type": "stream",
     "text": [
      "[[105], [7932], [7931], [7930], [7929], [7928], [93]]\n"
     ]
    }
   ],
   "source": [
    "# 设置起始点和终点\n",
    "start_grid = Grid(105)\n",
    "end_grid = Grid(93)\n",
    "# 搜索迷宫终点\n",
    "result_grid = a_star_search(start_grid, end_grid)\n",
    "# 回溯迷宫路径\n",
    "path = []\n",
    "while result_grid is not None:\n",
    "    path.append(Grid(result_grid.index))\n",
    "    result_grid = result_grid.parent\n",
    "path = list(reversed(path))\n",
    "print(path)"
   ]
  },
  {
   "cell_type": "code",
   "execution_count": 101,
   "id": "0625f511",
   "metadata": {},
   "outputs": [],
   "source": [
    "dom3 = xml.dom.minidom.parse('/Users/zgqq/Documents/研究生/科研/无人叉车/项目资料/VnSimulator.v0.6.18.16/config/HG12/tasks-list.config')"
   ]
  },
  {
   "cell_type": "code",
   "execution_count": 102,
   "id": "2f55cb2d",
   "metadata": {},
   "outputs": [],
   "source": [
    "root4 = dom3.documentElement"
   ]
  },
  {
   "cell_type": "code",
   "execution_count": 103,
   "id": "98c414ae",
   "metadata": {},
   "outputs": [],
   "source": [
    "itemlist4 = root4.getElementsByTagName('Group')"
   ]
  },
  {
   "cell_type": "code",
   "execution_count": 104,
   "id": "d6f87fce",
   "metadata": {},
   "outputs": [],
   "source": [
    "task = itemlist4[0].getElementsByTagName('Task')"
   ]
  },
  {
   "cell_type": "code",
   "execution_count": 122,
   "id": "c9e6c9aa",
   "metadata": {},
   "outputs": [],
   "source": [
    "Task = {}\n",
    "tlist = []\n",
    "num = 1\n",
    "for item in itemlist4:\n",
    "    tlist = []\n",
    "    task = item.getElementsByTagName('Task')\n",
    "    TimeMode = item.getAttribute(\"TimeMode\")\n",
    "    Time = item.getAttribute(\"Time\")\n",
    "    TId = item.getAttribute(\"Id\")\n",
    "    TType = item.getAttribute(\"Type\")\n",
    "    TPriority = item.getAttribute(\"Priority\")\n",
    "    AgvId = item.getAttribute(\"AgvId\")\n",
    "    tlist.append(TId)\n",
    "    tlist.append(Time)\n",
    "    ttlist = tlist.copy()\n",
    "    for i in range(0,2):\n",
    "        Id = task[i].getAttribute(\"Id\")\n",
    "        Type = task[i].getAttribute(\"Type\")\n",
    "        Goal = task[i].getAttribute(\"Goal\")\n",
    "        ttlist.append(Id)\n",
    "        ttlist.append(Type)\n",
    "        ttlist.append(Goal)\n",
    "    Task[num] = ttlist\n",
    "    num = num + 1\n",
    "    ttlist = []"
   ]
  },
  {
   "cell_type": "code",
   "execution_count": 123,
   "id": "6d8e48a6",
   "metadata": {},
   "outputs": [
    {
     "data": {
      "text/plain": [
       "['1', '0.500', '1', 'GET', '1057', '2', 'PUT', '1307']"
      ]
     },
     "execution_count": 123,
     "metadata": {},
     "output_type": "execute_result"
    }
   ],
   "source": [
    "Task[1]"
   ]
  },
  {
   "cell_type": "code",
   "execution_count": 118,
   "id": "416a3daf",
   "metadata": {},
   "outputs": [
    {
     "name": "stdout",
     "output_type": "stream",
     "text": [
      "None\n"
     ]
    }
   ],
   "source": []
  },
  {
   "cell_type": "code",
   "execution_count": 128,
   "id": "cdb21585",
   "metadata": {},
   "outputs": [
    {
     "name": "stdout",
     "output_type": "stream",
     "text": [
      "[['break_time', 20], ['break_time', 20]]\n",
      "[['break_time', 20], ['break_time', 20], ['break_time', 20], ['break_time', 20]]\n"
     ]
    },
    {
     "ename": "KeyError",
     "evalue": "1124",
     "output_type": "error",
     "traceback": [
      "\u001b[0;31m---------------------------------------------------------------------------\u001b[0m",
      "\u001b[0;31mKeyError\u001b[0m                                  Traceback (most recent call last)",
      "\u001b[0;32m~/opt/anaconda3/lib/python3.8/site-packages/pandas/core/indexes/base.py\u001b[0m in \u001b[0;36mget_loc\u001b[0;34m(self, key, method, tolerance)\u001b[0m\n\u001b[1;32m   3360\u001b[0m             \u001b[0;32mtry\u001b[0m\u001b[0;34m:\u001b[0m\u001b[0;34m\u001b[0m\u001b[0;34m\u001b[0m\u001b[0m\n\u001b[0;32m-> 3361\u001b[0;31m                 \u001b[0;32mreturn\u001b[0m \u001b[0mself\u001b[0m\u001b[0;34m.\u001b[0m\u001b[0m_engine\u001b[0m\u001b[0;34m.\u001b[0m\u001b[0mget_loc\u001b[0m\u001b[0;34m(\u001b[0m\u001b[0mcasted_key\u001b[0m\u001b[0;34m)\u001b[0m\u001b[0;34m\u001b[0m\u001b[0;34m\u001b[0m\u001b[0m\n\u001b[0m\u001b[1;32m   3362\u001b[0m             \u001b[0;32mexcept\u001b[0m \u001b[0mKeyError\u001b[0m \u001b[0;32mas\u001b[0m \u001b[0merr\u001b[0m\u001b[0;34m:\u001b[0m\u001b[0;34m\u001b[0m\u001b[0;34m\u001b[0m\u001b[0m\n",
      "\u001b[0;32m~/opt/anaconda3/lib/python3.8/site-packages/pandas/_libs/index.pyx\u001b[0m in \u001b[0;36mpandas._libs.index.IndexEngine.get_loc\u001b[0;34m()\u001b[0m\n",
      "\u001b[0;32m~/opt/anaconda3/lib/python3.8/site-packages/pandas/_libs/index.pyx\u001b[0m in \u001b[0;36mpandas._libs.index.IndexEngine.get_loc\u001b[0;34m()\u001b[0m\n",
      "\u001b[0;32mpandas/_libs/hashtable_class_helper.pxi\u001b[0m in \u001b[0;36mpandas._libs.hashtable.Int64HashTable.get_item\u001b[0;34m()\u001b[0m\n",
      "\u001b[0;32mpandas/_libs/hashtable_class_helper.pxi\u001b[0m in \u001b[0;36mpandas._libs.hashtable.Int64HashTable.get_item\u001b[0;34m()\u001b[0m\n",
      "\u001b[0;31mKeyError\u001b[0m: 1124",
      "\nThe above exception was the direct cause of the following exception:\n",
      "\u001b[0;31mKeyError\u001b[0m                                  Traceback (most recent call last)",
      "\u001b[0;32m/var/folders/9g/96nqnmtd17jcrnqvnl4bsdhc0000gn/T/ipykernel_36281/1348287273.py\u001b[0m in \u001b[0;36m<module>\u001b[0;34m\u001b[0m\n\u001b[1;32m     25\u001b[0m     \u001b[0mstart_grid\u001b[0m \u001b[0;34m=\u001b[0m \u001b[0mGrid\u001b[0m\u001b[0;34m(\u001b[0m\u001b[0mstart\u001b[0m\u001b[0;34m)\u001b[0m\u001b[0;34m\u001b[0m\u001b[0;34m\u001b[0m\u001b[0m\n\u001b[1;32m     26\u001b[0m     \u001b[0mend_grid\u001b[0m \u001b[0;34m=\u001b[0m \u001b[0mGrid\u001b[0m\u001b[0;34m(\u001b[0m\u001b[0mend\u001b[0m\u001b[0;34m)\u001b[0m\u001b[0;34m\u001b[0m\u001b[0;34m\u001b[0m\u001b[0m\n\u001b[0;32m---> 27\u001b[0;31m     \u001b[0mresult_grid\u001b[0m \u001b[0;34m=\u001b[0m \u001b[0ma_star_search\u001b[0m\u001b[0;34m(\u001b[0m\u001b[0mstart_grid\u001b[0m\u001b[0;34m,\u001b[0m \u001b[0mend_grid\u001b[0m\u001b[0;34m)\u001b[0m\u001b[0;34m\u001b[0m\u001b[0;34m\u001b[0m\u001b[0m\n\u001b[0m\u001b[1;32m     28\u001b[0m     \u001b[0mpath\u001b[0m \u001b[0;34m=\u001b[0m \u001b[0;34m[\u001b[0m\u001b[0;34m]\u001b[0m\u001b[0;34m\u001b[0m\u001b[0;34m\u001b[0m\u001b[0m\n\u001b[1;32m     29\u001b[0m     \u001b[0;32mwhile\u001b[0m \u001b[0mresult_grid\u001b[0m \u001b[0;32mis\u001b[0m \u001b[0;32mnot\u001b[0m \u001b[0;32mNone\u001b[0m\u001b[0;34m:\u001b[0m\u001b[0;34m\u001b[0m\u001b[0;34m\u001b[0m\u001b[0m\n",
      "\u001b[0;32m/var/folders/9g/96nqnmtd17jcrnqvnl4bsdhc0000gn/T/ipykernel_36281/327796731.py\u001b[0m in \u001b[0;36ma_star_search\u001b[0;34m(start, end)\u001b[0m\n\u001b[1;32m     22\u001b[0m         \u001b[0mclose_list\u001b[0m\u001b[0;34m.\u001b[0m\u001b[0mappend\u001b[0m\u001b[0;34m(\u001b[0m\u001b[0mcurrent_grid\u001b[0m\u001b[0;34m)\u001b[0m\u001b[0;34m\u001b[0m\u001b[0;34m\u001b[0m\u001b[0m\n\u001b[1;32m     23\u001b[0m         \u001b[0;31m# 找到当前节点的所有领近节点\u001b[0m\u001b[0;34m\u001b[0m\u001b[0;34m\u001b[0m\u001b[0;34m\u001b[0m\u001b[0m\n\u001b[0;32m---> 24\u001b[0;31m         \u001b[0mneighbors\u001b[0m \u001b[0;34m=\u001b[0m \u001b[0mfind_neighbors\u001b[0m\u001b[0;34m(\u001b[0m\u001b[0mcurrent_grid\u001b[0m\u001b[0;34m,\u001b[0m \u001b[0mopen_list\u001b[0m\u001b[0;34m,\u001b[0m \u001b[0mclose_list\u001b[0m\u001b[0;34m)\u001b[0m\u001b[0;34m\u001b[0m\u001b[0;34m\u001b[0m\u001b[0m\n\u001b[0m\u001b[1;32m     25\u001b[0m         \u001b[0;32mfor\u001b[0m \u001b[0mgrid\u001b[0m \u001b[0;32min\u001b[0m \u001b[0mneighbors\u001b[0m\u001b[0;34m:\u001b[0m\u001b[0;34m\u001b[0m\u001b[0;34m\u001b[0m\u001b[0m\n\u001b[1;32m     26\u001b[0m             \u001b[0;32mif\u001b[0m \u001b[0mgrid\u001b[0m \u001b[0;32mnot\u001b[0m \u001b[0;32min\u001b[0m \u001b[0mopen_list\u001b[0m\u001b[0;34m:\u001b[0m\u001b[0;34m\u001b[0m\u001b[0;34m\u001b[0m\u001b[0m\n",
      "\u001b[0;32m/var/folders/9g/96nqnmtd17jcrnqvnl4bsdhc0000gn/T/ipykernel_36281/4241800161.py\u001b[0m in \u001b[0;36mfind_neighbors\u001b[0;34m(grid, open_list, close_list)\u001b[0m\n\u001b[1;32m     10\u001b[0m     \u001b[0mtemp_list\u001b[0m \u001b[0;34m=\u001b[0m \u001b[0;34m[\u001b[0m\u001b[0;34m]\u001b[0m\u001b[0;34m\u001b[0m\u001b[0;34m\u001b[0m\u001b[0m\n\u001b[1;32m     11\u001b[0m     \u001b[0;32mfor\u001b[0m \u001b[0mindex\u001b[0m \u001b[0;32min\u001b[0m \u001b[0mindex_list\u001b[0m\u001b[0;34m:\u001b[0m\u001b[0;34m\u001b[0m\u001b[0;34m\u001b[0m\u001b[0m\n\u001b[0;32m---> 12\u001b[0;31m         \u001b[0;32mif\u001b[0m \u001b[0mMA\u001b[0m\u001b[0;34m[\u001b[0m\u001b[0mgrid\u001b[0m\u001b[0;34m.\u001b[0m\u001b[0mindex\u001b[0m\u001b[0;34m]\u001b[0m\u001b[0;34m[\u001b[0m\u001b[0mindex\u001b[0m\u001b[0;34m]\u001b[0m \u001b[0;34m==\u001b[0m \u001b[0;36m1\u001b[0m\u001b[0;34m:\u001b[0m\u001b[0;34m\u001b[0m\u001b[0;34m\u001b[0m\u001b[0m\n\u001b[0m\u001b[1;32m     13\u001b[0m             \u001b[0mtemp_list\u001b[0m\u001b[0;34m.\u001b[0m\u001b[0mappend\u001b[0m\u001b[0;34m(\u001b[0m\u001b[0mindex\u001b[0m\u001b[0;34m)\u001b[0m\u001b[0;34m\u001b[0m\u001b[0;34m\u001b[0m\u001b[0m\n\u001b[1;32m     14\u001b[0m         \u001b[0;32mif\u001b[0m \u001b[0mMA\u001b[0m\u001b[0;34m[\u001b[0m\u001b[0mindex\u001b[0m\u001b[0;34m]\u001b[0m\u001b[0;34m[\u001b[0m\u001b[0mgrid\u001b[0m\u001b[0;34m.\u001b[0m\u001b[0mindex\u001b[0m\u001b[0;34m]\u001b[0m \u001b[0;34m==\u001b[0m \u001b[0;36m1\u001b[0m\u001b[0;34m:\u001b[0m\u001b[0;34m\u001b[0m\u001b[0;34m\u001b[0m\u001b[0m\n",
      "\u001b[0;32m~/opt/anaconda3/lib/python3.8/site-packages/pandas/core/frame.py\u001b[0m in \u001b[0;36m__getitem__\u001b[0;34m(self, key)\u001b[0m\n\u001b[1;32m   3456\u001b[0m             \u001b[0;32mif\u001b[0m \u001b[0mself\u001b[0m\u001b[0;34m.\u001b[0m\u001b[0mcolumns\u001b[0m\u001b[0;34m.\u001b[0m\u001b[0mnlevels\u001b[0m \u001b[0;34m>\u001b[0m \u001b[0;36m1\u001b[0m\u001b[0;34m:\u001b[0m\u001b[0;34m\u001b[0m\u001b[0;34m\u001b[0m\u001b[0m\n\u001b[1;32m   3457\u001b[0m                 \u001b[0;32mreturn\u001b[0m \u001b[0mself\u001b[0m\u001b[0;34m.\u001b[0m\u001b[0m_getitem_multilevel\u001b[0m\u001b[0;34m(\u001b[0m\u001b[0mkey\u001b[0m\u001b[0;34m)\u001b[0m\u001b[0;34m\u001b[0m\u001b[0;34m\u001b[0m\u001b[0m\n\u001b[0;32m-> 3458\u001b[0;31m             \u001b[0mindexer\u001b[0m \u001b[0;34m=\u001b[0m \u001b[0mself\u001b[0m\u001b[0;34m.\u001b[0m\u001b[0mcolumns\u001b[0m\u001b[0;34m.\u001b[0m\u001b[0mget_loc\u001b[0m\u001b[0;34m(\u001b[0m\u001b[0mkey\u001b[0m\u001b[0;34m)\u001b[0m\u001b[0;34m\u001b[0m\u001b[0;34m\u001b[0m\u001b[0m\n\u001b[0m\u001b[1;32m   3459\u001b[0m             \u001b[0;32mif\u001b[0m \u001b[0mis_integer\u001b[0m\u001b[0;34m(\u001b[0m\u001b[0mindexer\u001b[0m\u001b[0;34m)\u001b[0m\u001b[0;34m:\u001b[0m\u001b[0;34m\u001b[0m\u001b[0;34m\u001b[0m\u001b[0m\n\u001b[1;32m   3460\u001b[0m                 \u001b[0mindexer\u001b[0m \u001b[0;34m=\u001b[0m \u001b[0;34m[\u001b[0m\u001b[0mindexer\u001b[0m\u001b[0;34m]\u001b[0m\u001b[0;34m\u001b[0m\u001b[0;34m\u001b[0m\u001b[0m\n",
      "\u001b[0;32m~/opt/anaconda3/lib/python3.8/site-packages/pandas/core/indexes/base.py\u001b[0m in \u001b[0;36mget_loc\u001b[0;34m(self, key, method, tolerance)\u001b[0m\n\u001b[1;32m   3361\u001b[0m                 \u001b[0;32mreturn\u001b[0m \u001b[0mself\u001b[0m\u001b[0;34m.\u001b[0m\u001b[0m_engine\u001b[0m\u001b[0;34m.\u001b[0m\u001b[0mget_loc\u001b[0m\u001b[0;34m(\u001b[0m\u001b[0mcasted_key\u001b[0m\u001b[0;34m)\u001b[0m\u001b[0;34m\u001b[0m\u001b[0;34m\u001b[0m\u001b[0m\n\u001b[1;32m   3362\u001b[0m             \u001b[0;32mexcept\u001b[0m \u001b[0mKeyError\u001b[0m \u001b[0;32mas\u001b[0m \u001b[0merr\u001b[0m\u001b[0;34m:\u001b[0m\u001b[0;34m\u001b[0m\u001b[0;34m\u001b[0m\u001b[0m\n\u001b[0;32m-> 3363\u001b[0;31m                 \u001b[0;32mraise\u001b[0m \u001b[0mKeyError\u001b[0m\u001b[0;34m(\u001b[0m\u001b[0mkey\u001b[0m\u001b[0;34m)\u001b[0m \u001b[0;32mfrom\u001b[0m \u001b[0merr\u001b[0m\u001b[0;34m\u001b[0m\u001b[0;34m\u001b[0m\u001b[0m\n\u001b[0m\u001b[1;32m   3364\u001b[0m \u001b[0;34m\u001b[0m\u001b[0m\n\u001b[1;32m   3365\u001b[0m         \u001b[0;32mif\u001b[0m \u001b[0mis_scalar\u001b[0m\u001b[0;34m(\u001b[0m\u001b[0mkey\u001b[0m\u001b[0;34m)\u001b[0m \u001b[0;32mand\u001b[0m \u001b[0misna\u001b[0m\u001b[0;34m(\u001b[0m\u001b[0mkey\u001b[0m\u001b[0;34m)\u001b[0m \u001b[0;32mand\u001b[0m \u001b[0;32mnot\u001b[0m \u001b[0mself\u001b[0m\u001b[0;34m.\u001b[0m\u001b[0mhasnans\u001b[0m\u001b[0;34m:\u001b[0m\u001b[0;34m\u001b[0m\u001b[0;34m\u001b[0m\u001b[0m\n",
      "\u001b[0;31mKeyError\u001b[0m: 1124"
     ]
    }
   ],
   "source": [
    "final_path = []\n",
    "total_time = 0\n",
    "car_speed = 1.5\n",
    "start_grid = Grid(105)\n",
    "for i in range(1,5):\n",
    "    end = int(Task[i][4])\n",
    "    end_grid = Grid(end)\n",
    "    result_grid = a_star_search(start_grid, end_grid)\n",
    "    path = []\n",
    "    while result_grid is not None:\n",
    "        path.append(Grid(result_grid.index))\n",
    "        result_grid = result_grid.parent\n",
    "    path = list(reversed(path))\n",
    "    if final_path == []:\n",
    "        for i in range(len(path)):\n",
    "            final_path.append(path[i])\n",
    "            total_time += path[i].time\n",
    "    else:\n",
    "        for i in range(1,len(path)):\n",
    "            final_path.append(path[i])\n",
    "            total_time += path[i].time\n",
    "    final_path.append(['break_time',20+total_time])\n",
    "    start = int(Task[i][4])\n",
    "    end = int(Task[i][7])\n",
    "    start_grid = Grid(start)\n",
    "    end_grid = Grid(end)\n",
    "    result_grid = a_star_search(start_grid, end_grid)\n",
    "    path = []\n",
    "    while result_grid is not None:\n",
    "        path.append(Grid(result_grid.index))\n",
    "        result_grid = result_grid.parent\n",
    "    path = list(reversed(path))\n",
    "    if final_path == []:\n",
    "        for i in range(len(path)):\n",
    "            final_path.append(path[i])\n",
    "            total_time += path[i].time\n",
    "    else:\n",
    "        for i in range(1,len(path)):\n",
    "            final_path.append(path[i])\n",
    "            total_time += path[i].time\n",
    "    final_path.append(['break_time',20+total_time])\n",
    "    print(final_path)"
   ]
  },
  {
   "cell_type": "code",
   "execution_count": null,
   "id": "4ba996cb",
   "metadata": {},
   "outputs": [],
   "source": []
  }
 ],
 "metadata": {
  "kernelspec": {
   "display_name": "Python 3 (ipykernel)",
   "language": "python",
   "name": "python3"
  },
  "language_info": {
   "codemirror_mode": {
    "name": "ipython",
    "version": 3
   },
   "file_extension": ".py",
   "mimetype": "text/x-python",
   "name": "python",
   "nbconvert_exporter": "python",
   "pygments_lexer": "ipython3",
   "version": "3.8.12"
  }
 },
 "nbformat": 4,
 "nbformat_minor": 5
}
